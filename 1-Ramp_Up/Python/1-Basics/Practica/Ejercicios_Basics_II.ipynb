{
 "cells": [
  {
   "cell_type": "markdown",
   "metadata": {},
   "source": [
    "![imagen](./img/ejercicios.png)"
   ]
  },
  {
   "cell_type": "markdown",
   "metadata": {},
   "source": [
    "# Ejercicios Python Basics II"
   ]
  },
  {
   "cell_type": "markdown",
   "metadata": {},
   "source": [
    "## Ejercicio 1\n",
    "* Crea dos variables numericas: un `int` y un `float`\n",
    "* Comprueba sus tipos\n",
    "* Sumalas en otra nueva\n",
    "* ¿De qué tipo es la nueva variable?\n",
    "* Elimina las variables creadas"
   ]
  },
  {
   "cell_type": "code",
   "execution_count": 3,
   "metadata": {},
   "outputs": [
    {
     "name": "stdout",
     "output_type": "stream",
     "text": [
      "12\n",
      "27.5\n",
      "<class 'int'>\n",
      "<class 'float'>\n",
      "39.5\n",
      "<class 'float'>\n"
     ]
    }
   ],
   "source": [
    "# AQUÍ VA TU CÓDIGO\n",
    "variable_int = 12\n",
    "\n",
    "print(variable_int)\n",
    "\n",
    "variable_float = 27.5\n",
    "\n",
    "print(variable_float)\n",
    "\n",
    "print(type(variable_int))\n",
    "\n",
    "print(type(variable_float))\n",
    "\n",
    "variable_suma = variable_int + variable_float\n",
    "\n",
    "print(variable_suma)\n",
    "\n",
    "print(type(variable_suma))\n",
    "\n",
    "del(variable_int)\n",
    "\n",
    "del(variable_float)\n",
    "\n",
    "del(variable_suma) \n"
   ]
  },
  {
   "cell_type": "markdown",
   "metadata": {},
   "source": [
    "## Ejercicio 2\n",
    "Escribe un programa para pasar de grados a radianes. Hay que usar `input`. Recuerda que la conversión se realiza mediante\n",
    "\n",
    "$$radianes = grados*(pi/180)$$"
   ]
  },
  {
   "cell_type": "code",
   "execution_count": null,
   "metadata": {},
   "outputs": [
    {
     "name": "stdout",
     "output_type": "stream",
     "text": [
      "El equivalente de  45.0 grados en radianes es  0.25 *pi radianes\n",
      "El equivalente de  45.0 grados en radianes es  0.79 radianes\n",
      "El equivalente de  45.0 grados en radianes es  0.79 radianes\n"
     ]
    }
   ],
   "source": [
    "# AQUÍ VA TU CÓDIGO\n",
    "\n",
    "# Expresando el resultado en notación matemática con pi como símbolo\n",
    "grados = float(input(\"Introduce la la cifra, en grados, que desea convertir en radianes :\"))\n",
    "radianes = grados/180\n",
    "# notación matemática\n",
    "print(\"El equivalente de \",grados, \"grados en radianes es \", radianes,\"*pi radianes\")\n",
    "\n",
    "# Usando una aproximación de pi (pi = 3.1416)\n",
    "grados = float(input(\"Introduce el número de grados: \"))\n",
    "radianes = round(grados * (3.1416 / 180),2)\n",
    "# notación numérica\n",
    "print(\"El equivalente de \",grados, \"grados en radianes es \", radianes,\"radianes\")\n",
    "\n",
    "# Usando la libreria math\n",
    "import math\n",
    "grados = float(input(\"Introduce el número de grados: \"))\n",
    "radianes = round(grados * (math.pi / 180),2)\n",
    "# notación numérica\n",
    "print(\"El equivalente de \",grados, \"grados en radianes es \", radianes,\"radianes\")\n"
   ]
  },
  {
   "cell_type": "markdown",
   "metadata": {},
   "source": [
    "## Ejercicio 3\n",
    "Escribe un programa que calcule el area de un paralelogramo (base x altura). También con `input`"
   ]
  },
  {
   "cell_type": "code",
   "execution_count": 10,
   "metadata": {},
   "outputs": [
    {
     "name": "stdout",
     "output_type": "stream",
     "text": [
      "Este programa calcula el área de un paralelogramo \n",
      "\n",
      "El area del paralelogramo con base 10.0, y altura 23.0 es : 230.0 unidades cuadradas\n"
     ]
    }
   ],
   "source": [
    "# AQUÍ VA TU CÓDIGO\n",
    "\n",
    "print(\"Este programa calcula el área de un paralelogramo \\n\")\n",
    "base = float(input(\"Introduzca el valor de la base del paralelogramo\"))\n",
    "altura = float(input(\"Introduzca el valor de la altura del paralelogramo\"))\n",
    "area_paralelogramo = base*altura\n",
    "\n",
    "print(f\"El area del paralelogramo con base {base}, y altura {altura} es : {area_paralelogramo} unidades cuadradas\")"
   ]
  },
  {
   "cell_type": "markdown",
   "metadata": {},
   "source": [
    "## Ejercicio 4\n",
    "Tenemos las siguientes variables:\n",
    "\n",
    "```Python\n",
    "A = 4\n",
    "B = \"Text\"\n",
    "C = 4.1\n",
    "```\n",
    "\n",
    "Comprueba:\n",
    "1. Si A y B son equivalentes\n",
    "2. Si A y C NO son equivalentes\n",
    "3. Si A es mayor que C \n",
    "4. Si C es menor o igual que A\n",
    "5. Si B NO es equivalente a C"
   ]
  },
  {
   "cell_type": "code",
   "execution_count": 11,
   "metadata": {},
   "outputs": [
    {
     "name": "stdout",
     "output_type": "stream",
     "text": [
      "False\n",
      "True\n",
      "False\n",
      "False\n",
      "True\n"
     ]
    }
   ],
   "source": [
    "# AQUÍ VA TU CÓDIGO\n",
    "\n",
    "A = 4\n",
    "B = \"Text\"\n",
    "C = 4.1\n",
    "\n",
    "print(A == B)\n",
    "print(A != C )\n",
    "print(A > C )\n",
    "print(C <= A )\n",
    "print(B != C )"
   ]
  },
  {
   "cell_type": "markdown",
   "metadata": {},
   "source": [
    "## Ejercicio 5\n",
    "Crea un programa donde se recojan dos inputs del usuario, y el output del programa sea si esos inputs son iguales o no"
   ]
  },
  {
   "cell_type": "code",
   "execution_count": 13,
   "metadata": {},
   "outputs": [
    {
     "name": "stdout",
     "output_type": "stream",
     "text": [
      "¿Son iguales las notas en las asignaturas física y matemáticas? False\n"
     ]
    }
   ],
   "source": [
    "# AQUÍ VA TU CÓDIGO\n",
    "\n",
    "input_1 = input(\"Cuál es su nota en la asignatura matemáticas\")\n",
    "input_2 = input(\"Cuál es su nota en la asignatura física\")\n",
    "\n",
    "comparacion = input_1 == input_2\n",
    "print(f\"¿Son iguales las notas en las asignaturas física y matemáticas? {comparacion}\")"
   ]
  },
  {
   "cell_type": "markdown",
   "metadata": {},
   "source": [
    "## Ejercicio 6\n",
    "Mismo programa que en 5, pero en esta ocasión tienen que ser tres inputs y dos salidas. Una de las salidas que nos indique si todos son iguales, y la otra si al menos dos inputs sí que lo son"
   ]
  },
  {
   "cell_type": "code",
   "execution_count": 14,
   "metadata": {},
   "outputs": [
    {
     "name": "stdout",
     "output_type": "stream",
     "text": [
      "¿Son iguales las edades de los tres pacientes? False\n",
      "¿Son iguales las edades de al menos dos de los pacientes? True\n"
     ]
    }
   ],
   "source": [
    "# AQUÍ VA TU CÓDIGO\n",
    "\n",
    "input_1 = input(\"Edad del paciente 1\")\n",
    "input_2 = input(\"Edad del paciente 2\")\n",
    "input_3 = input(\"Edad del paciente 3\")\n",
    "\n",
    "#comparacion_1 = (input_1 == input_2) and (input_1 == input_3) and (input_2 == input_3)\n",
    "comparacion_1 = input_1 == input_2 == input_3\n",
    "comparacion_2 = (input_1 == input_2) or (input_1 == input_3) or (input_2 == input_3)\n",
    "\n",
    "print(f\"¿Son iguales las edades de los tres pacientes? {comparacion_1}\")\n",
    "\n",
    "print(f\"¿Son iguales las edades de al menos dos de los pacientes? {comparacion_2}\")"
   ]
  },
  {
   "cell_type": "markdown",
   "metadata": {},
   "source": [
    "## Ejercicio 7\n",
    "Crea un programa que recoja dos inputs. Tiene que comprobar si su suma es igual, superior o inferior a 10, cada condición por separado"
   ]
  },
  {
   "cell_type": "code",
   "execution_count": 20,
   "metadata": {},
   "outputs": [
    {
     "name": "stdout",
     "output_type": "stream",
     "text": [
      "La suma de los dos números es menor a 10\n"
     ]
    }
   ],
   "source": [
    "# AQUÍ VA TU CÓDIGO\n",
    "\n",
    "input_1 = float(input(\"Cuál es su primer número\"))\n",
    "input_2 = float(input(\"Cuál es su segundo número\"))\n",
    "\n",
    "suma = input_1 + input_2\n",
    "if suma == 10:\n",
    "  print(\"La suma de los dos números es 10\")\n",
    "elif suma > 10:\n",
    "  print(\"La suma de los dos números es mayor a 10\")\n",
    "else:\n",
    "    print(\"La suma de los dos números es menor a 10\")"
   ]
  },
  {
   "attachments": {},
   "cell_type": "markdown",
   "metadata": {},
   "source": [
    "## Ejercicio 8\n",
    "Razona sin ejecutar código el output que obtendremos de las siguientes sentencias\n",
    "1. True and True and False\n",
    "2. not ((True or False) and (True or False))\n",
    "3. (False or False or False or True) and False\n",
    "4. not False and True and not True\n",
    "\n",
    "Compruébalo después con python"
   ]
  },
  {
   "cell_type": "markdown",
   "metadata": {},
   "source": [
    "1. False\n",
    "2. False\n",
    "3. False\n",
    "4. False"
   ]
  },
  {
   "cell_type": "markdown",
   "metadata": {},
   "source": [
    "## Ejercicio 9\n",
    "Para este ejercicio vamos a poner en práctica [las funciones built in](https://docs.python.org/3/library/functions.html).\n",
    "\n",
    "1. Calcula el máximo de la lista: [4, 6, 8, -1]\n",
    "2. Suma todos los elementos de la lista anterior\n",
    "3. Redondea este float a 3 dígitos decimales: 63.451256965\n",
    "4. Valor absoluto de: -74"
   ]
  },
  {
   "cell_type": "code",
   "execution_count": 33,
   "metadata": {},
   "outputs": [
    {
     "name": "stdout",
     "output_type": "stream",
     "text": [
      "El valor máximo de la lista [4, 6, 8, -1], es 8\n",
      "La suma de los valores en la lista [4, 6, 8, -1], es 17\n",
      "El valor redondeado a 3 decimales de 63.451256965 es 63.451\n",
      "El valor absoluto de -74 es 74\n"
     ]
    }
   ],
   "source": [
    "# AQUÍ VA TU CÓDIGO\n",
    "\n",
    "lista = [4,6,8,-1]\n",
    "# 1. \n",
    "maximo = max(lista)\n",
    "print(f\"El valor máximo de la lista {lista}, es {maximo}\")\n",
    "\n",
    "# 2.\n",
    "suma = sum(lista)\n",
    "print(f\"La suma de los valores en la lista {lista}, es {suma}\")\n",
    "\n",
    "# 3.\n",
    "redondeo_3 = round(63.451256965,3)\n",
    "print(f\"El valor redondeado a 3 decimales de 63.451256965 es {redondeo_3}\")\n",
    "\n",
    "# 4.\n",
    "valor_absoluto = abs(-74)\n",
    "print(f\"El valor absoluto de -74 es {valor_absoluto}\")"
   ]
  },
  {
   "cell_type": "markdown",
   "metadata": {},
   "source": [
    "## Ejercicio 10\n",
    "Para el siguiente string se pide imprimir por pantalla los siguientes casos\n",
    "\n",
    "    \"Lo primero de todo, cómo están los máquinas\"\n",
    "\n",
    "1. Pasarlo todo a mayúsculas\n",
    "2. Pasarlo todo a minúsculas\n",
    "3. Pasar a mayúsculas solo las iniciales de las palabras\n",
    "4. Crea una lista dividiendolo por sus espacios\n",
    "5. Sustituye las comas `,` por puntos y comas `;`\n",
    "6. Elimina las `a` minúsculas"
   ]
  },
  {
   "cell_type": "code",
   "execution_count": 41,
   "metadata": {},
   "outputs": [
    {
     "name": "stdout",
     "output_type": "stream",
     "text": [
      "1. Todo a mayusculas :\n",
      " LO PRIMERO DE TODO, CÓMO ESTÁN LOS MÁQUINAS\n",
      "2. Todo a minusculas :\n",
      " lo primero de todo, cómo están los máquinas\n",
      "2. Todo a minusculas :\n",
      " lo primero de todo, cómo están los máquinas\n",
      "3. Solo la primera letra de cada palabra en mayuscula :\n",
      " Lo Primero De Todo, Cómo Están Los Máquinas\n",
      "4. Lista dividida por sus espacios :\n",
      " ['Lo', 'primero', 'de', 'todo,', 'cómo', 'están', 'los', 'máquinas']\n",
      "5. Comas por puntos y coma :\n",
      " Lo primero de todo; cómo están los máquinas\n",
      "6. Eliminar las 'a' minúsculas :\n",
      " Lo primero de todo, cómo están los máquin s\n",
      "6. Eliminar las 'a' minúsculas y con tilde :\n",
      " Lo primero de todo, cómo est n los m quinas\n"
     ]
    }
   ],
   "source": [
    "# AQUÍ VA TU \n",
    "cadena = \"Lo primero de todo, cómo están los máquinas\"\n",
    "# 1.\n",
    "ejercicio_1 = cadena.upper()\n",
    "print(\"1. Todo a mayusculas :\\n\",ejercicio_1)\n",
    "\n",
    "# 2.\n",
    "# Tomando como base la cadena string inicial\n",
    "ejercicio_2 = cadena.lower()\n",
    "print(\"2. Todo a minusculas :\\n\",ejercicio_2)\n",
    "# Tomando como base el ejercicio anterior\n",
    "minusculas = ejercicio_2.lower()\n",
    "print(\"2. Todo a minusculas :\\n\",minusculas)\n",
    "\n",
    "# 3. \n",
    "ejercicio_3 = cadena.title()\n",
    "print(\"3. Solo la primera letra de cada palabra en mayuscula :\\n\",ejercicio_3)\n",
    "\n",
    "# 4. \n",
    "ejercicio_4 = cadena.split()\n",
    "print(\"4. Lista dividida por sus espacios :\\n\",ejercicio_4)\n",
    "\n",
    "# 5.\n",
    "ejercicio_5 = cadena.replace(\",\",\";\")\n",
    "print(\"5. Comas por puntos y coma :\\n\",ejercicio_5)\n",
    "\n",
    "# 6. \n",
    "# eliminando las 'a' sin incluir las que llevan tilde\n",
    "ejercicio_6 = cadena.replace(\"a\",\" \")\n",
    "print(\"6. Eliminar las 'a' minúsculas :\\n\",ejercicio_6)\n",
    "\n",
    "# eliminando las 'a' incluídas las que tienen tilde\n",
    "ejercicio_6 = cadena.replace((\"a\" and \"á\"),\" \")\n",
    "print(\"6. Eliminar las 'a' minúsculas y con tilde :\\n\",ejercicio_6)\n",
    "\n"
   ]
  },
  {
   "cell_type": "markdown",
   "metadata": {},
   "source": [
    "## Ejercicio 11\n",
    "1. Crea una lista con 3 elementos numéricos\n",
    "2. Añade un cuarto elemento\n",
    "3. Calcula la suma de todos\n",
    "4. Elimina el segundo elemento de la lista\n",
    "5. Añade otro elemento en la posicion 3 de la lista\n",
    "6. Crea otra lista con 4 elementos y concaténala a la que ya tenías."
   ]
  },
  {
   "cell_type": "code",
   "execution_count": 42,
   "metadata": {},
   "outputs": [
    {
     "name": "stdout",
     "output_type": "stream",
     "text": [
      "Ejercicio_1: Creamos la lista \n",
      " [9, 16, 75]\n",
      "Ejercicio_2: Agregamos un nuevo elemento \n",
      " [9, 16, 75, 20]\n",
      "Ejercicio_3: Sumamos sus elementos \n",
      " 120\n",
      "Ejercicio_4: Eliminamos el segundo elemento  \n",
      " [9, 75, 20]\n",
      "Ejercicio_5: Agregamos un nuevo elemento \n",
      " [9, 75, 3, 20]\n",
      "Ejercicio_6: Creamos la lista 2 y la concatenamos \n",
      " [9, 75, 3, 20, 10, 2, 13, 7]\n"
     ]
    }
   ],
   "source": [
    "# AQUÍ VA TU CÓDIGO\n",
    "\n",
    "#1. \n",
    "lista_1 = [9, 16, 75]\n",
    "print(f\"Ejercicio_1: Creamos la lista \\n {lista_1}\")\n",
    "\n",
    "#2.\n",
    "lista_1.append(20)\n",
    "print(f\"Ejercicio_2: Agregamos un nuevo elemento \\n {lista_1}\")\n",
    "\n",
    "#3. \n",
    "suma = sum(lista_1)\n",
    "print(f\"Ejercicio_3: Sumamos sus elementos \\n {suma}\")\n",
    "\n",
    "#4. \n",
    "lista_1.pop(1)\n",
    "print(f\"Ejercicio_4: Eliminamos el segundo elemento  \\n {lista_1}\")\n",
    "\n",
    "#5.\n",
    "lista_1.insert(2,3)\n",
    "print(f\"Ejercicio_5: Agregamos un nuevo elemento \\n {lista_1}\")\n",
    "\n",
    "#6. \n",
    "lista_2 = [10,2,13,7]\n",
    "concatenacion = lista_1 + lista_2\n",
    "print(f\"Ejercicio_6: Creamos la lista 2 y la concatenamos \\n {concatenacion}\")"
   ]
  }
 ],
 "metadata": {
  "kernelspec": {
   "display_name": "Python 3",
   "language": "python",
   "name": "python3"
  },
  "language_info": {
   "codemirror_mode": {
    "name": "ipython",
    "version": 3
   },
   "file_extension": ".py",
   "mimetype": "text/x-python",
   "name": "python",
   "nbconvert_exporter": "python",
   "pygments_lexer": "ipython3",
   "version": "3.12.9"
  },
  "nbTranslate": {
   "displayLangs": [
    "*"
   ],
   "hotkey": "alt-t",
   "langInMainMenu": true,
   "sourceLang": "en",
   "targetLang": "fr",
   "useGoogleTranslate": true
  },
  "varInspector": {
   "cols": {
    "lenName": 16,
    "lenType": 16,
    "lenVar": 40
   },
   "kernels_config": {
    "python": {
     "delete_cmd_postfix": "",
     "delete_cmd_prefix": "del ",
     "library": "var_list.py",
     "varRefreshCmd": "print(var_dic_list())"
    },
    "r": {
     "delete_cmd_postfix": ") ",
     "delete_cmd_prefix": "rm(",
     "library": "var_list.r",
     "varRefreshCmd": "cat(var_dic_list()) "
    }
   },
   "types_to_exclude": [
    "module",
    "function",
    "builtin_function_or_method",
    "instance",
    "_Feature"
   ],
   "window_display": false
  }
 },
 "nbformat": 4,
 "nbformat_minor": 4
}
